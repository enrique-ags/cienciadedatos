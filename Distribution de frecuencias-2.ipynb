{
 "cells": [
  {
   "cell_type": "code",
   "execution_count": 160,
   "id": "7626c12a",
   "metadata": {},
   "outputs": [],
   "source": [
    "import numpy as np\n",
    "import pandas as pd\n",
    "# lista de findings\n",
    "\n",
    "findings = [5,8,10,1,2,13,20,15,17,1,0,1,1,43,55,20,31,45,55,80,75,65,101,34,35,56,66,77,88,99,77,776,300,400,500]\n",
    "arr= np.array(findings)\n",
    "arr_aux = np.empty(0)\n",
    "def calcula_intervalo(v_max,v_min,n):\n",
    "    r = 0\n",
    "    \n",
    "    r = v_max - v_min\n",
    "    m = r / n\n",
    "    m = round(m)\n",
    "    return m\n",
    "\n",
    "def calcula_rangos(x,y):\n",
    "    aux =0\n",
    "    aux2=x\n",
    "    for x in range(0,y):\n",
    "        print(\"Intervalo : \",x ,',', aux ,'---',aux2)\n",
    "        \n",
    "        aux +=x+1\n",
    "        aux2 = aux+x\n",
    "        #arr_aux = arr >=aux & arr <= aux2\n",
    "    \n",
    "    \n",
    "    \n",
    "    "
   ]
  },
  {
   "cell_type": "code",
   "execution_count": 74,
   "id": "ab830cf7",
   "metadata": {},
   "outputs": [
    {
     "name": "stdout",
     "output_type": "stream",
     "text": [
      "[0, 1, 1, 1, 1, 2, 5, 8, 10, 13, 15, 17, 20, 20, 31, 34, 35, 43, 45, 55, 55, 56, 65, 66, 75, 77, 77, 80, 88, 99, 101, 776]\n"
     ]
    }
   ],
   "source": [
    "#imprimir findings\n",
    "findings.sort()\n",
    "print(findings)"
   ]
  },
  {
   "cell_type": "code",
   "execution_count": 169,
   "id": "f2522977",
   "metadata": {},
   "outputs": [
    {
     "name": "stdout",
     "output_type": "stream",
     "text": [
      "Ingresa el Numero de intervalos: 5\n",
      "Valor Min:   0\n",
      "Valor Max:  776\n",
      "Numero de intervalos:  5\n",
      "Intervalo:  155\n",
      "Valores en lista:  35\n",
      "Valores unicos:  29\n",
      "---------------------\n"
     ]
    }
   ],
   "source": [
    "emptyDict = {}\n",
    "\n",
    "m = int(input(\"Ingresa el Numero de intervalos: \"))\n",
    "\n",
    "x_min=min(findings)\n",
    "x_max = max(findings)\n",
    "i=calcula_intervalo(x_max,x_min,m)\n",
    "print (\"Valor Min:  \",x_min)\n",
    "print(\"Valor Max: \",x_max)\n",
    "print(\"Numero de intervalos: \", m)\n",
    "print(\"Intervalo: \",i)\n",
    "print('Valores en lista: ', len(findings))\n",
    "print('Valores unicos: ', len(set(findings)))\n",
    "\n",
    "\n",
    "print(\"---------------------\")\n",
    "aux =0\n",
    "aux2=i\n",
    "for x in range(0,m):\n",
    "    #print(\"Intervalo : \",x+1 ,',', aux ,'-',aux2)\n",
    "    emptyDict[str(aux) +'-'+str(aux2)]=len(arr[(arr >=aux)&(arr<=aux2)])\n",
    "    #print(len(arr[(arr >=aux)&(arr<=aux2)]))\n",
    "    aux +=i+1\n",
    "    aux2 = aux+i\n",
    "\n",
    "   \n",
    "        "
   ]
  },
  {
   "cell_type": "code",
   "execution_count": 162,
   "id": "51cb1bce",
   "metadata": {},
   "outputs": [
    {
     "data": {
      "text/plain": [
       "{'0-155': 31, '156-311': 1, '312-467': 1, '468-623': 1, '624-779': 1}"
      ]
     },
     "execution_count": 162,
     "metadata": {},
     "output_type": "execute_result"
    }
   ],
   "source": [
    "emptyDict"
   ]
  },
  {
   "cell_type": "code",
   "execution_count": 168,
   "id": "0762a141",
   "metadata": {},
   "outputs": [
    {
     "data": {
      "image/png": "[encoded data removed]",
      "text/plain": [
       "<Figure size 432x288 with 1 Axes>"
      ]
     },
     "metadata": {
      "needs_background": "light"
     },
     "output_type": "display_data"
    }
   ],
   "source": [
    "import matplotlib.pyplot as plt\n",
    "\n",
    "data = emptyDict\n",
    "names = list(data.keys())\n",
    "values = list(data.values())\n",
    "\n",
    "plt.bar(range(len(data)), values, tick_label=names)\n",
    "plt.show()"
   ]
  }
 ],
 "metadata": {
  "kernelspec": {
   "display_name": "Python 3 (ipykernel)",
   "language": "python",
   "name": "python3"
  },
  "language_info": {
   "codemirror_mode": {
    "name": "ipython",
    "version": 3
   },
   "file_extension": ".py",
   "mimetype": "text/x-python",
   "name": "python",
   "nbconvert_exporter": "python",
   "pygments_lexer": "ipython3",
   "version": "3.9.12"
  }
 },
 "nbformat": 4,
 "nbformat_minor": 5
}
