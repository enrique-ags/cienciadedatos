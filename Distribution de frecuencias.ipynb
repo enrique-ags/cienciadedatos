{
 "cells": [
  {
   "cell_type": "code",
   "execution_count": 68,
   "id": "6244b097",
   "metadata": {},
   "outputs": [],
   "source": [
    "# lista de findings\n",
    "\n",
    "findings = [5,8,10,1,2,13,20,15,17,1,0,1,1,43,55,20,31,45,55,80,75,65,101]\n",
    "\n",
    "\n",
    "def calcula_intervalo(v_max,v_min,n):\n",
    "    r = 0\n",
    "    \n",
    "    r = v_max - v_min\n",
    "    m = r / n\n",
    "    m = round(m)\n",
    "    return m\n",
    "\n",
    "def calcula_rangos(x,y):\n",
    "    aux =0\n",
    "    aux2=x\n",
    "    for x in range(0,y):\n",
    "        print(\"Intervalo : \",x ,',', aux ,'---',aux2)\n",
    "        aux +=x+1\n",
    "        aux2 = aux+x\n",
    "    \n",
    "    \n",
    "    \n",
    "    "
   ]
  },
  {
   "cell_type": "code",
   "execution_count": 69,
   "id": "b92d7cc3",
   "metadata": {},
   "outputs": [
    {
     "name": "stdout",
     "output_type": "stream",
     "text": [
      "[0, 1, 1, 1, 1, 2, 5, 8, 10, 13, 15, 17, 20, 20, 31, 43, 45, 55, 55, 65, 75, 80, 101]\n"
     ]
    }
   ],
   "source": [
    "#imprimir findings\n",
    "findings.sort()\n",
    "print(findings)"
   ]
  },
  {
   "cell_type": "code",
   "execution_count": 72,
   "id": "d130a603",
   "metadata": {},
   "outputs": [
    {
     "name": "stdout",
     "output_type": "stream",
     "text": [
      "Ingresa el Numero de intervalos: 5\n",
      "Valor Min:   0\n",
      "Valor Max:  101\n",
      "Numero de intervalos:  5\n",
      "Intervalo:  20\n",
      "---------------------\n",
      "Intervalo :  0 , 0 --- 20\n",
      "Intervalo :  1 , 21 --- 41\n",
      "Intervalo :  2 , 42 --- 62\n",
      "Intervalo :  3 , 63 --- 83\n",
      "Intervalo :  4 , 84 --- 104\n"
     ]
    }
   ],
   "source": [
    "m = int(input(\"Ingresa el Numero de intervalos: \"))\n",
    "\n",
    "x_min=min(findings)\n",
    "x_max = max(findings)\n",
    "i=calcula_intervalo(x_max,x_min,m)\n",
    "print (\"Valor Min:  \",x_min)\n",
    "print(\"Valor Max: \",x_max)\n",
    "print(\"Numero de intervalos: \", m)\n",
    "print(\"Intervalo: \",i)\n",
    "print(\"---------------------\")\n",
    "aux =0\n",
    "aux2=i\n",
    "for x in range(0,m):\n",
    "    print(\"Intervalo : \",x ,',', aux ,'---',aux2)\n",
    "    aux +=i+1\n",
    "    aux2 = aux+i"
   ]
  },
  {
   "cell_type": "code",
   "execution_count": 71,
   "id": "df9a72eb",
   "metadata": {},
   "outputs": [
    {
     "name": "stdout",
     "output_type": "stream",
     "text": [
      "Intervalo :  0 , 0 --- 20\n",
      "Intervalo :  1 , 21 --- 41\n",
      "Intervalo :  2 , 42 --- 62\n",
      "Intervalo :  3 , 63 --- 83\n",
      "Intervalo :  4 , 84 --- 104\n"
     ]
    }
   ],
   "source": [
    "\n",
    "  \n",
    "\n",
    "\n"
   ]
  }
 ],
 "metadata": {
  "kernelspec": {
   "display_name": "Python 3 (ipykernel)",
   "language": "python",
   "name": "python3"
  },
  "language_info": {
   "codemirror_mode": {
    "name": "ipython",
    "version": 3
   },
   "file_extension": ".py",
   "mimetype": "text/x-python",
   "name": "python",
   "nbconvert_exporter": "python",
   "pygments_lexer": "ipython3",
   "version": "3.9.12"
  }
 },
 "nbformat": 4,
 "nbformat_minor": 5
}
